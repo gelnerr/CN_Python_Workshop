{
 "cells": [
  {
   "cell_type": "markdown",
   "id": "34181309",
   "metadata": {},
   "source": [
    "<center>\n",
    "\n",
    "## Code Ninjas - Regina, SK\n",
    "# Introduction to Python\n",
    "\n",
    "### Author: [Glen Issac](mailto:glenissac392@gmail.com)\n",
    "\n",
    "</center>"
   ]
  },
  {
   "cell_type": "markdown",
   "id": "0040eb4b-037c-421a-9e20-b947773cd004",
   "metadata": {},
   "source": [
    "### Your Name: "
   ]
  },
  {
   "cell_type": "markdown",
   "id": "0db03eee-6c9c-4992-a9c8-33d03660206e",
   "metadata": {},
   "source": [
    "# 🐍 Welcome to Python in Jupyter!\n",
    "Welcome to your Python workshop! Run each cell using **Shift + Enter**.\n",
    "Let's start by saying hello to Python:"
   ]
  },
  {
   "cell_type": "code",
   "execution_count": null,
   "id": "c4b6a669",
   "metadata": {},
   "outputs": [],
   "source": [
    "print(\"Hello, Python 🐍!\")"
   ]
  },
  {
   "cell_type": "markdown",
   "id": "61704c32",
   "metadata": {},
   "source": [
    "___\n",
    "## Section 1: Variables, Input, and Output\n",
    "Let's learn how to use **variables** and **input** in Python."
   ]
  },
  {
   "cell_type": "code",
   "execution_count": null,
   "id": "cbf95c0b",
   "metadata": {},
   "outputs": [],
   "source": [
    "name = input(\"What's your name? \")\n",
    "animal = input(\"Pick an animal: \")\n",
    "print(name,\"met a\", animal, \"that could code in Python!\")"
   ]
  },
  {
   "cell_type": "markdown",
   "id": "24f4c162",
   "metadata": {},
   "source": [
    "___\n",
    "## Section 2: Randomness & Logic\n",
    "Let's make a **Guess-the-Number** game using random numbers and if-statements."
   ]
  },
  {
   "cell_type": "code",
   "execution_count": null,
   "id": "ceb5ea6d",
   "metadata": {},
   "outputs": [],
   "source": [
    "import random\n",
    "\n",
    "secret = random.randint(1, 10)\n",
    "guess = int(input(\"Guess a number between 1 and 10: \"))\n",
    "\n",
    "if guess == secret:\n",
    "    print(\"🎉 You guessed it!\")\n",
    "else:\n",
    "    print(f\"Oops! It was {secret}. Try again next time!\")"
   ]
  },
  {
   "cell_type": "markdown",
   "id": "18c0ea23",
   "metadata": {},
   "source": [
    "**Challenge:** Let the player have 3 tries or expand the range to 1–50!\n",
    "___"
   ]
  },
  {
   "cell_type": "markdown",
   "id": "2f10f7c5",
   "metadata": {},
   "source": [
    "## Section 3: Dice Roller\n",
    "Let's roll some dice using loops and random numbers."
   ]
  },
  {
   "cell_type": "code",
   "execution_count": null,
   "id": "f56ffe60",
   "metadata": {},
   "outputs": [],
   "source": [
    "dice = {1:\"⚀\",2:\"⚁\",3:\"⚂\",4:\"⚃\",5:\"⚄\",6:\"⚅\"}\n",
    "\n",
    "for i in range(3):\n",
    "    roll = random.randint(1,6)\n",
    "    print(f\"Roll {i+1}: {dice[roll]}\")"
   ]
  },
  {
   "cell_type": "markdown",
   "id": "6922941a",
   "metadata": {},
   "source": [
    "**Challenge:** Add two dice per roll or print 'You win!' if you roll a double!\n",
    "___"
   ]
  },
  {
   "cell_type": "markdown",
   "id": "0bbf69eb",
   "metadata": {},
   "source": [
    "## Section 4: Looped Art\n",
    "We can draw colorful art right in the notebook!"
   ]
  },
  {
   "cell_type": "code",
   "execution_count": null,
   "id": "8356a06a",
   "metadata": {},
   "outputs": [],
   "source": [
    "for i in range(10):\n",
    "    for j in range(10):\n",
    "        print(\"🟦\" if (i+j)%2==0 else \"🟨\", end=\"\")\n",
    "    print()"
   ]
  },
  {
   "cell_type": "markdown",
   "id": "832e1732-9ea1-4ca6-8390-5509250f98e3",
   "metadata": {},
   "source": [
    "____\n",
    "### Let's do our first excercise before moving on!"
   ]
  },
  {
   "cell_type": "markdown",
   "id": "d80d0b57-c105-413c-94a5-aa6008378198",
   "metadata": {},
   "source": [
    "Now that we have learned how to use loops and inputs, lets try and write a Python program that:\n",
    "- Asks the user for an <b> Integer </b> input.\n",
    "- Stores the input into a <b>variable</b>.\n",
    "- Determines whether the number is **odd** or **even**.\n",
    "\n",
    "Some parts have been done for you, ask a Sensei for help if you are stuck!\n",
    "\n",
    "(*Hint*: Use an 'if' to check if our number is divisible by 2 or not)"
   ]
  },
  {
   "cell_type": "code",
   "execution_count": null,
   "id": "69937f23-7b57-442f-ba10-f2e2dd2283cb",
   "metadata": {},
   "outputs": [],
   "source": [
    "number = int(input(\"Enter a Number\"))\n",
    "\n",
    "# Now we have our integer stored in \"number\"\n",
    "# Work with \"number\" using a conditional to determine if it is even or odd\n",
    "\n",
    "# if number / 2 = 0: even!\n",
    "# else: odd!\n",
    "\n"
   ]
  },
  {
   "cell_type": "markdown",
   "id": "259cb9c7",
   "metadata": {},
   "source": [
    "____\n",
    "## Section 5: Random Compliment Generator\n",
    "Let's end with a fun little program that gives compliments!"
   ]
  },
  {
   "cell_type": "code",
   "execution_count": null,
   "id": "28298249",
   "metadata": {},
   "outputs": [],
   "source": [
    "names = [\"You\", \"Coders\", \"Python Pros\", \"Legends\"]\n",
    "compliments = [\"are awesome!\", \"rock!\", \"have great logic!\", \"can code anything!\", \"are the best Ninjas!\"]\n",
    "\n",
    "print(f\"{random.choice(names)} {random.choice(compliments)} 🎉\")"
   ]
  },
  {
   "cell_type": "markdown",
   "id": "8f557e3e",
   "metadata": {},
   "source": [
    "___\n",
    "## 🎓 Outro\n",
    "🎉 Great job! You made games and art with Python! 🥳\n",
    "\n",
    "Try adding your own twists to each project and show your friends what you made!"
   ]
  }
 ],
 "metadata": {
  "kernelspec": {
   "display_name": "Python 3 (ipykernel)",
   "language": "python",
   "name": "python3"
  },
  "language_info": {
   "codemirror_mode": {
    "name": "ipython",
    "version": 3
   },
   "file_extension": ".py",
   "mimetype": "text/x-python",
   "name": "python",
   "nbconvert_exporter": "python",
   "pygments_lexer": "ipython3",
   "version": "3.12.7"
  }
 },
 "nbformat": 4,
 "nbformat_minor": 5
}
